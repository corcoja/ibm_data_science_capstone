{
 "cells": [
  {
   "cell_type": "markdown",
   "metadata": {},
   "source": [
    "<a href=\"https://cognitiveclass.ai/\"><img src = \"https://compete.cognitiveclass.ai/static/media/cognitive-class-logo.b08236c1.png\" width = 384></a>"
   ]
  },
  {
   "cell_type": "markdown",
   "metadata": {},
   "source": [
    "# Scrape Toronto Neighborhood Data From Wikipedia"
   ]
  },
  {
   "cell_type": "markdown",
   "metadata": {},
   "source": [
    "In order to utilize the **Foursquare** location data, we need to get the latitude and the longitude coordinates of each neighborhood.\n",
    "\n",
    "For the scope of this assignment, we will be leveraging the Google Maps Geocoding API to get the latitude and the longitude coordinates of each neighborhood.\n",
    "Recently, Google started charging for their API: http://geoawesomeness.com/developers-up-in-arms-over-google-maps-api-insane-price-hike/, so we will use the **pypostalcode** package instead: https://pypi.org/project/pypostalcode/.\n",
    "\n",
    "The **pypostalcode** package is a fork of Nathan Van Gheem’s **pyzipcode** package. The zip code database has been replaced with Canadian cities and their postal codes. The general usage is the same as in **pyzipcode** package.\n",
    "\n",
    "### <font color = \"#FF3322\">Important!</font>\n",
    "\n",
    "The attempt to retrieve location's geo coordinates using **Geocoder** package was unsuccessful, this being the reason for using **pypostalcode** package as the main tool for resolving geo coordinates."
   ]
  },
  {
   "cell_type": "markdown",
   "metadata": {},
   "source": [
    "### Install required dependencies"
   ]
  },
  {
   "cell_type": "code",
   "execution_count": 1,
   "metadata": {},
   "outputs": [
    {
     "name": "stdout",
     "output_type": "stream",
     "text": [
      "Requirement already satisfied: pypostalcode in /home/jupyterlab/conda/lib/python3.6/site-packages (0.3.4)\n",
      "All dependencies successfully installed!\n"
     ]
    }
   ],
   "source": [
    "!pip install pypostalcode\n",
    "print(\"All dependencies successfully installed!\")"
   ]
  },
  {
   "cell_type": "markdown",
   "metadata": {},
   "source": [
    "### Import the necessary libraries for the project"
   ]
  },
  {
   "cell_type": "code",
   "execution_count": 2,
   "metadata": {},
   "outputs": [],
   "source": [
    "import pandas as pd\n",
    "import numpy as np\n",
    "from pypostalcode import PostalCodeDatabase"
   ]
  },
  {
   "cell_type": "markdown",
   "metadata": {},
   "source": [
    "### Last resort data"
   ]
  },
  {
   "cell_type": "markdown",
   "metadata": {},
   "source": [
    "Given that this package hasn't been updated since 2015, there is a chance that some postal code information will be missing. In case it is not possible to get the geographical coordinates of the neighborhoods using the **pypostalcode** package, we'll get the data from last resort *CSV* document, with the coordinates for all the neighborhoods in Toronto:\n",
    "\n",
    "https://cocl.us/Geospatial_data"
   ]
  },
  {
   "cell_type": "code",
   "execution_count": 3,
   "metadata": {},
   "outputs": [
    {
     "name": "stdout",
     "output_type": "stream",
     "text": [
      "\n",
      "Last resort dataframe size: (103, 2)\n"
     ]
    }
   ],
   "source": [
    "last_resort_df = pd.read_csv(\"https://cocl.us/Geospatial_data\", index_col = 0)\n",
    "\n",
    "# The size of last resort dataframe\n",
    "print(\"\\nLast resort dataframe size: {0}\".format(last_resort_df.shape))"
   ]
  },
  {
   "cell_type": "markdown",
   "metadata": {},
   "source": [
    "### Define necessary methods"
   ]
  },
  {
   "cell_type": "markdown",
   "metadata": {},
   "source": [
    "To make sure that the coordinates are retrieved for all of the neighborhoods, a new method is created. It will get the data through **pypostalcode** package or use the *last resort* dataframe, in case the first didn't find the location. The method returns a `tuple` object with the coordinates of the provided postal code."
   ]
  },
  {
   "cell_type": "code",
   "execution_count": 4,
   "metadata": {},
   "outputs": [],
   "source": [
    "# Define postal code database\n",
    "postal_code_db = PostalCodeDatabase()\n",
    "\n",
    "# The method for retrieving coordinates of a Canadian postal code\n",
    "def retrieve_coordinates(postal_code):\n",
    "    try:\n",
    "        location = postal_code_db[postal_code]\n",
    "        return (location.latitude, location.longitude)\n",
    "    except:\n",
    "        lrd = last_resort_df.loc[postal_code]\n",
    "        return (lrd.Latitude, lrd.Longitude)"
   ]
  },
  {
   "cell_type": "markdown",
   "metadata": {},
   "source": [
    "### Load the Toronto neighborhoods data *CSV* into dataframe"
   ]
  },
  {
   "cell_type": "code",
   "execution_count": 5,
   "metadata": {},
   "outputs": [],
   "source": [
    "df = pd.read_csv(\"toronto_neighborhood.csv\", index_col = 0)"
   ]
  },
  {
   "cell_type": "markdown",
   "metadata": {},
   "source": [
    "### Loop through every postal code and retrieve the coordinates"
   ]
  },
  {
   "cell_type": "code",
   "execution_count": 6,
   "metadata": {},
   "outputs": [
    {
     "data": {
      "text/plain": [
       "(103, 2)"
      ]
     },
     "execution_count": 6,
     "metadata": {},
     "output_type": "execute_result"
    }
   ],
   "source": [
    "# This array will be used for storing the coordinates for every postal code\n",
    "long_lat_array = []\n",
    "\n",
    "# Retrieve coordinates by looping through the postal codes\n",
    "for postal_code in df[\"PostalCode\"]:\n",
    "    coordinates = retrieve_coordinates(postal_code)\n",
    "    long_lat_array.append([coordinates[0], coordinates[1]])\n",
    "\n",
    "# Convert python list to pandas dataframe\n",
    "coords_df = pd.DataFrame(long_lat_array)\n",
    "coords_df.columns = [\"Latitude\", \"Longitude\"]\n",
    "\n",
    "coords_df.shape"
   ]
  },
  {
   "cell_type": "markdown",
   "metadata": {},
   "source": [
    "## Join coordinates dataframe to the main dataframe"
   ]
  },
  {
   "cell_type": "code",
   "execution_count": 7,
   "metadata": {},
   "outputs": [],
   "source": [
    "df = df.join(coords_df, sort = False)"
   ]
  },
  {
   "cell_type": "markdown",
   "metadata": {},
   "source": [
    "### Save the dataframe to disk"
   ]
  },
  {
   "cell_type": "code",
   "execution_count": 8,
   "metadata": {},
   "outputs": [],
   "source": [
    "df.to_csv(\"toronto_neighborhood_coordinates.csv\")"
   ]
  },
  {
   "cell_type": "markdown",
   "metadata": {},
   "source": [
    "### Dataframe preview"
   ]
  },
  {
   "cell_type": "code",
   "execution_count": 9,
   "metadata": {},
   "outputs": [
    {
     "name": "stdout",
     "output_type": "stream",
     "text": [
      "   PostalCode      Borough                                       Neighborhood  \\\n",
      "0         M1B  Scarborough                                     Rouge, Malvern   \n",
      "1         M1C  Scarborough             Highland Creek, Rouge Hill, Port Union   \n",
      "2         M1E  Scarborough                  Guildwood, Morningside, West Hill   \n",
      "3         M1G  Scarborough                                             Woburn   \n",
      "4         M1H  Scarborough                                          Cedarbrae   \n",
      "5         M1J  Scarborough                                Scarborough Village   \n",
      "6         M1K  Scarborough        East Birchmount Park, Ionview, Kennedy Park   \n",
      "7         M1L  Scarborough                    Clairlea, Golden Mile, Oakridge   \n",
      "8         M1M  Scarborough    Cliffcrest, Cliffside, Scarborough Village West   \n",
      "9         M1N  Scarborough                        Birch Cliff, Cliffside West   \n",
      "10        M1P  Scarborough  Dorset Park, Scarborough Town Centre, Wexford ...   \n",
      "11        M1R  Scarborough                                  Maryvale, Wexford   \n",
      "12        M1S  Scarborough                                          Agincourt   \n",
      "13        M1T  Scarborough            Clarks Corners, Sullivan, Tam O'Shanter   \n",
      "14        M1V  Scarborough  Agincourt North, L'Amoreaux East, Milliken, St...   \n",
      "15        M1W  Scarborough                                    L'Amoreaux West   \n",
      "\n",
      "    Latitude  Longitude  \n",
      "0    43.7976   -79.2270  \n",
      "1    43.7882   -79.1911  \n",
      "2    43.7385   -79.2021  \n",
      "3    43.7563   -79.2224  \n",
      "4    43.7563   -79.2417  \n",
      "5    43.7315   -79.2460  \n",
      "6    43.7025   -79.2656  \n",
      "7    43.6905   -79.2857  \n",
      "8    43.7041   -79.2446  \n",
      "9    43.6748   -79.2764  \n",
      "10   43.7422   -79.2818  \n",
      "11   43.7293   -79.3038  \n",
      "12   43.7807   -79.2855  \n",
      "13   43.7719   -79.3213  \n",
      "14   43.8130   -79.2781  \n",
      "15   43.7822   -79.3261  \n",
      "\n",
      "Dataframe size: (103, 5)\n"
     ]
    }
   ],
   "source": [
    "# Display a preview of the data frame (first 16 rows)\n",
    "print(df.head(16))\n",
    "\n",
    "# The size of the dataframe\n",
    "print(\"\\nDataframe size: {0}\".format(df.shape))"
   ]
  }
 ],
 "metadata": {
  "kernelspec": {
   "display_name": "Python 3",
   "language": "python",
   "name": "python3"
  },
  "language_info": {
   "codemirror_mode": {
    "name": "ipython",
    "version": 3
   },
   "file_extension": ".py",
   "mimetype": "text/x-python",
   "name": "python",
   "nbconvert_exporter": "python",
   "pygments_lexer": "ipython3",
   "version": "3.6.8"
  }
 },
 "nbformat": 4,
 "nbformat_minor": 2
}
